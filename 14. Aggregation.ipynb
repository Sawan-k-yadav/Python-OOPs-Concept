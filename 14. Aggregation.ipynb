{
 "cells": [
  {
   "cell_type": "markdown",
   "metadata": {},
   "source": [
    "#  Aggregation in Python ( Has relationship )\n",
    "\n",
    "one class owns other class\n"
   ]
  },
  {
   "cell_type": "code",
   "execution_count": 3,
   "metadata": {},
   "outputs": [],
   "source": [
    "class Customer:\n",
    "\n",
    "    def __init__(self, name, gender, address):\n",
    "        self.name = name\n",
    "        self.gender = gender\n",
    "        self.address = address\n",
    "\n",
    "    def show_info(self):\n",
    "        print(f\"Name : {self.name}, Gender: {self.gender}, Address: {self.address.city}, Pin: {self.address.pin}, State: {self.address.state} \")\n",
    "\n",
    "\n",
    "class Address:\n",
    "\n",
    "    def __init__(self, city, pin, state):\n",
    "        self.city = city\n",
    "        self.pin = pin\n",
    "        self.state = state\n",
    "    "
   ]
  },
  {
   "cell_type": "code",
   "execution_count": 5,
   "metadata": {},
   "outputs": [],
   "source": [
    "add = Address(\"Hyderabad\",556545,\"Telangana\")\n",
    "\n",
    "cus = Customer(\"Sawan\", \"Male\", add)"
   ]
  },
  {
   "cell_type": "code",
   "execution_count": 6,
   "metadata": {},
   "outputs": [
    {
     "name": "stdout",
     "output_type": "stream",
     "text": [
      "Name : Sawan, Gender: Male, Address: Hyderabad, Pin: 556545, State: Telangana \n"
     ]
    }
   ],
   "source": [
    "cus.show_info()"
   ]
  },
  {
   "cell_type": "markdown",
   "metadata": {},
   "source": [
    "It ran successfully -- because to show and run properly the functionality of one class, it is dependent on another class."
   ]
  },
  {
   "cell_type": "markdown",
   "metadata": {},
   "source": [
    "## Problem with aggregation \n",
    "\n",
    "If we are sending object of class as argument to constructor in another class while creating its object -- then it will not be able to access those instace or variables which are private.\n",
    "\n",
    "#### see below"
   ]
  },
  {
   "cell_type": "code",
   "execution_count": 7,
   "metadata": {},
   "outputs": [],
   "source": [
    "class Customer:\n",
    "\n",
    "    def __init__(self, name, gender, address):\n",
    "        self.name = name\n",
    "        self.gender = gender\n",
    "        self.address = address\n",
    "\n",
    "    def show_info(self):\n",
    "        print(f\"Name : {self.name}, Gender: {self.gender}, Address: {self.address.__city}, Pin: {self.address.pin}, State: {self.address.state} \")\n",
    "\n",
    "\n",
    "class Address:\n",
    "\n",
    "    def __init__(self, city, pin, state):\n",
    "        self.__city = city\n",
    "        self.pin = pin\n",
    "        self.state = state\n",
    "    "
   ]
  },
  {
   "cell_type": "code",
   "execution_count": 8,
   "metadata": {},
   "outputs": [],
   "source": [
    "add = Address(\"Hyderabad\",556545,\"Telangana\")\n",
    "\n",
    "cus = Customer(\"Sawan\", \"Male\", add)"
   ]
  },
  {
   "cell_type": "code",
   "execution_count": 9,
   "metadata": {},
   "outputs": [
    {
     "ename": "AttributeError",
     "evalue": "'Address' object has no attribute '_Customer__city'",
     "output_type": "error",
     "traceback": [
      "\u001b[1;31m---------------------------------------------------------------------------\u001b[0m",
      "\u001b[1;31mAttributeError\u001b[0m                            Traceback (most recent call last)",
      "Cell \u001b[1;32mIn[9], line 1\u001b[0m\n\u001b[1;32m----> 1\u001b[0m cus\u001b[38;5;241m.\u001b[39mshow_info()\n",
      "Cell \u001b[1;32mIn[7], line 9\u001b[0m, in \u001b[0;36mCustomer.show_info\u001b[1;34m(self)\u001b[0m\n\u001b[0;32m      8\u001b[0m \u001b[38;5;28;01mdef\u001b[39;00m \u001b[38;5;21mshow_info\u001b[39m(\u001b[38;5;28mself\u001b[39m):\n\u001b[1;32m----> 9\u001b[0m     \u001b[38;5;28mprint\u001b[39m(\u001b[38;5;124mf\u001b[39m\u001b[38;5;124m\"\u001b[39m\u001b[38;5;124mName : \u001b[39m\u001b[38;5;132;01m{\u001b[39;00m\u001b[38;5;28mself\u001b[39m\u001b[38;5;241m.\u001b[39mname\u001b[38;5;132;01m}\u001b[39;00m\u001b[38;5;124m, Gender: \u001b[39m\u001b[38;5;132;01m{\u001b[39;00m\u001b[38;5;28mself\u001b[39m\u001b[38;5;241m.\u001b[39mgender\u001b[38;5;132;01m}\u001b[39;00m\u001b[38;5;124m, Address: \u001b[39m\u001b[38;5;132;01m{\u001b[39;00m\u001b[38;5;28mself\u001b[39m\u001b[38;5;241m.\u001b[39maddress\u001b[38;5;241m.\u001b[39m__city\u001b[38;5;132;01m}\u001b[39;00m\u001b[38;5;124m, Pin: \u001b[39m\u001b[38;5;132;01m{\u001b[39;00m\u001b[38;5;28mself\u001b[39m\u001b[38;5;241m.\u001b[39maddress\u001b[38;5;241m.\u001b[39mpin\u001b[38;5;132;01m}\u001b[39;00m\u001b[38;5;124m, State: \u001b[39m\u001b[38;5;132;01m{\u001b[39;00m\u001b[38;5;28mself\u001b[39m\u001b[38;5;241m.\u001b[39maddress\u001b[38;5;241m.\u001b[39mstate\u001b[38;5;132;01m}\u001b[39;00m\u001b[38;5;124m \u001b[39m\u001b[38;5;124m\"\u001b[39m)\n",
      "\u001b[1;31mAttributeError\u001b[0m: 'Address' object has no attribute '_Customer__city'"
     ]
    }
   ],
   "source": [
    "cus.show_info()  \n",
    "\n",
    "\n",
    "# below is error is because object cus is access private variable of Address class\n",
    "# with address object variable"
   ]
  },
  {
   "cell_type": "markdown",
   "metadata": {},
   "source": [
    "### In this case we can use getter and setter method of class"
   ]
  },
  {
   "cell_type": "code",
   "execution_count": 13,
   "metadata": {},
   "outputs": [],
   "source": [
    "class Customer:\n",
    "\n",
    "    def __init__(self, name, gender, address):\n",
    "        self.name = name\n",
    "        self.gender = gender\n",
    "        self.address = address\n",
    "\n",
    "    def show_info(self):                                                        # getter method called below\n",
    "        print(f\"Name : {self.name}, Gender: {self.gender}, Address: {self.address.get_city}, Pin: {self.address.pin}, State: {self.address.state} \")\n",
    "\n",
    "\n",
    "class Address:\n",
    "\n",
    "    def __init__(self, city, pin, state):\n",
    "        self.__city = city   # Private variable\n",
    "        self.pin = pin\n",
    "        self.state = state\n",
    "\n",
    "    # getter method\n",
    "\n",
    "    def get_city(self):  # Instead of getter method, we can also use self._Classname__privatevariable\n",
    "        return self.__city\n",
    "    "
   ]
  },
  {
   "cell_type": "code",
   "execution_count": 14,
   "metadata": {},
   "outputs": [],
   "source": [
    "add = Address(\"Hyderabad\",556545,\"Telangana\")\n",
    "\n",
    "cus = Customer(\"Sawan\", \"Male\", add)"
   ]
  },
  {
   "cell_type": "code",
   "execution_count": 15,
   "metadata": {},
   "outputs": [
    {
     "name": "stdout",
     "output_type": "stream",
     "text": [
      "Name : Sawan, Gender: Male, Address: <bound method Address.get_city of <__main__.Address object at 0x000001F83E311F10>>, Pin: 556545, State: Telangana \n"
     ]
    }
   ],
   "source": [
    "cus.show_info()"
   ]
  },
  {
   "cell_type": "code",
   "execution_count": null,
   "metadata": {},
   "outputs": [],
   "source": []
  }
 ],
 "metadata": {
  "kernelspec": {
   "display_name": "base",
   "language": "python",
   "name": "python3"
  },
  "language_info": {
   "codemirror_mode": {
    "name": "ipython",
    "version": 3
   },
   "file_extension": ".py",
   "mimetype": "text/x-python",
   "name": "python",
   "nbconvert_exporter": "python",
   "pygments_lexer": "ipython3",
   "version": "3.11.5"
  }
 },
 "nbformat": 4,
 "nbformat_minor": 2
}
