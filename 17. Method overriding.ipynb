{
 "cells": [
  {
   "cell_type": "markdown",
   "metadata": {},
   "source": [
    "# Method overriding in OOP"
   ]
  },
  {
   "cell_type": "code",
   "execution_count": 1,
   "metadata": {},
   "outputs": [
    {
     "name": "stdout",
     "output_type": "stream",
     "text": [
      "Inside Phone constructor is working...\n",
      "Buying a Phone SmartPhone constructor\n"
     ]
    }
   ],
   "source": [
    "class Phone:\n",
    "\n",
    "    def __init__(self, price, brand, camera):\n",
    "        print(\"Inside Phone constructor is working...\")\n",
    "        self.__price = price\n",
    "        self.brand = brand\n",
    "        self.camera = camera\n",
    "        \n",
    "    \n",
    "    # getter method\n",
    "    def get_price(self):\n",
    "        return self.__price\n",
    "\n",
    "    def buy(self):\n",
    "        print(\"Buying a phone inside constructor\")\n",
    "\n",
    "class SmartPhone(Phone):\n",
    "    \n",
    "    # class getter method\n",
    "    def print_price(self):\n",
    "        print(self.get_price())\n",
    "\n",
    "    def buy(self):\n",
    "        print(\"Buying a Phone SmartPhone constructor\")    \n",
    "\n",
    "S = SmartPhone(20000, \"Nokia\", 3) \n",
    "\n",
    "S.buy()"
   ]
  },
  {
   "cell_type": "markdown",
   "metadata": {},
   "source": [
    "1. Here object is searching method buy() inside child class SmartPhone and executing that class.\n",
    "2. Incase it will not find that particular method inside child class then it will search inside parent class then it will execute it.\n",
    "\n",
    "3. This is called method overriding."
   ]
  },
  {
   "cell_type": "code",
   "execution_count": null,
   "metadata": {},
   "outputs": [],
   "source": []
  }
 ],
 "metadata": {
  "kernelspec": {
   "display_name": "base",
   "language": "python",
   "name": "python3"
  },
  "language_info": {
   "codemirror_mode": {
    "name": "ipython",
    "version": 3
   },
   "file_extension": ".py",
   "mimetype": "text/x-python",
   "name": "python",
   "nbconvert_exporter": "python",
   "pygments_lexer": "ipython3",
   "version": "3.11.5"
  }
 },
 "nbformat": 4,
 "nbformat_minor": 2
}
