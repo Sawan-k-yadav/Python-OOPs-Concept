{
 "cells": [
  {
   "cell_type": "markdown",
   "metadata": {},
   "source": [
    "# Super Keyword in OOP"
   ]
  },
  {
   "cell_type": "code",
   "execution_count": 1,
   "metadata": {},
   "outputs": [
    {
     "name": "stdout",
     "output_type": "stream",
     "text": [
      "Inside Phone constructor is working...\n",
      "Buying a Phone SmartPhone constructor\n",
      "Buying a phone inside constructor\n"
     ]
    }
   ],
   "source": [
    "class Phone:\n",
    "\n",
    "    def __init__(self, price, brand, camera):\n",
    "        print(\"Inside Phone constructor is working...\")\n",
    "        self.__price = price\n",
    "        self.brand = brand\n",
    "        self.camera = camera\n",
    "        \n",
    "    \n",
    "    # getter method\n",
    "    def get_price(self):\n",
    "        return self.__price\n",
    "\n",
    "    def buy(self):\n",
    "        print(\"Buying a phone inside constructor\")\n",
    "\n",
    "class SmartPhone(Phone):\n",
    "    \n",
    "    # class getter method\n",
    "    def print_price(self):\n",
    "        print(self.get_price())\n",
    "\n",
    "    def buy(self):\n",
    "        print(\"Buying a Phone SmartPhone constructor\") \n",
    "\n",
    "        super().buy()   # Super keyword is calling parent class method ( buy() )\n",
    "\n",
    "S = SmartPhone(20000, \"Nokia\", 3) \n",
    "\n",
    "S.buy()"
   ]
  },
  {
   "cell_type": "markdown",
   "metadata": {},
   "source": [
    "1. It means if we want to call parent class attribute or method inside child class then we need to use super keyword.\n",
    "\n",
    "let see for attributes..."
   ]
  },
  {
   "cell_type": "code",
   "execution_count": 3,
   "metadata": {},
   "outputs": [
    {
     "name": "stdout",
     "output_type": "stream",
     "text": [
      "Inside SmartPhone constructor..\n",
      "Inside Phone constructor is working...\n",
      "20000\n",
      "Nokia\n",
      "3\n",
      "Iphone\n",
      "32\n"
     ]
    }
   ],
   "source": [
    "class Phone:\n",
    "\n",
    "    def __init__(self, price, brand, camera):\n",
    "        print(\"Inside Phone constructor is working...\")\n",
    "        self.price = price\n",
    "        self.brand = brand\n",
    "        self.camera = camera\n",
    "        \n",
    "    \n",
    "\n",
    "class SmartPhone(Phone):\n",
    "\n",
    "    def __init__(self, price, brand, camera, os, ram):\n",
    "        print(\"Inside SmartPhone constructor..\")\n",
    "        super().__init__(price, brand, camera) # It is telling parent to class to use all its attributes\n",
    "        self.os = os\n",
    "        self.ram = ram\n",
    "        \n",
    "\n",
    "\n",
    "S = SmartPhone(20000, \"Nokia\", 3, \"Iphone\", 32) \n",
    "print(S.price)\n",
    "print(S.brand)\n",
    "print(S.camera)\n",
    "print(S.os)\n",
    "print(S.ram)"
   ]
  },
  {
   "cell_type": "markdown",
   "metadata": {},
   "source": [
    "1. With the use super() keyword inside child class, we can easily get the parent class attribute and methods and print or perform other operations."
   ]
  },
  {
   "cell_type": "code",
   "execution_count": null,
   "metadata": {},
   "outputs": [],
   "source": []
  }
 ],
 "metadata": {
  "kernelspec": {
   "display_name": "base",
   "language": "python",
   "name": "python3"
  },
  "language_info": {
   "codemirror_mode": {
    "name": "ipython",
    "version": 3
   },
   "file_extension": ".py",
   "mimetype": "text/x-python",
   "name": "python",
   "nbconvert_exporter": "python",
   "pygments_lexer": "ipython3",
   "version": "3.11.5"
  }
 },
 "nbformat": 4,
 "nbformat_minor": 2
}
