{
 "cells": [
  {
   "cell_type": "markdown",
   "metadata": {},
   "source": [
    "# Encapsulation\n",
    "\n",
    "Encapsulation is a fundamental oject-oriented principle in python. It protects your classes from changes or deletions and promotes code reusability and maintainability."
   ]
  },
  {
   "cell_type": "code",
   "execution_count": 1,
   "metadata": {},
   "outputs": [],
   "source": [
    "class Atm:\n",
    "\n",
    "    # Constructor (special function) (super power)\n",
    "\n",
    "    def __init__(self):    # Constructor, it is used to initiazed all data while object creation\n",
    "        print(id(self))\n",
    "        self.pin = \"\"\n",
    "        self.balance = 0\n",
    "        # self.menu()\n",
    "\n",
    "    \n",
    "    def menu(self):\n",
    "        user_input = input(\n",
    "            \"\"\"\n",
    "            HI How can I help you?\n",
    "\n",
    "            1. Press 1 to create pin\n",
    "            2. Press 2 to change pin\n",
    "            3. Press 3 to check balance\n",
    "            4. Press 4 to withdraw money\n",
    "            5. Anything to exit\n",
    "            \"\"\"\n",
    "        )\n",
    "\n",
    "        if user_input == \"1\":\n",
    "            # Create a pin\n",
    "            self.create_pin()\n",
    "\n",
    "        elif user_input == \"2\":\n",
    "            # Change pin\n",
    "            self.change_pin()\n",
    "\n",
    "        elif user_input == \"3\":\n",
    "            # Check balance\n",
    "            self.check_balance()\n",
    "\n",
    "        elif user_input == \"4\":\n",
    "            # Withdraw money\n",
    "            self.withdraw_balance()\n",
    "\n",
    "        else:\n",
    "            # Exit otherwise\n",
    "            exit()\n",
    "\n",
    "    def create_pin(self):\n",
    "        user_pin  = input(\"Enter your pin\")\n",
    "        self.pin = user_pin\n",
    "\n",
    "        user_balance = int(input(\"Enter balance\"))\n",
    "        self.balance = user_balance\n",
    "\n",
    "        print(\"Pin created successfully\")\n",
    "        # self.menu()\n",
    "\n",
    "    def change_pin(self):\n",
    "        old_pin = input(\"Enter your old pin\")\n",
    "\n",
    "        if old_pin == self.pin:\n",
    "            new_pin = input(\"Enter new pin: \")\n",
    "            self.pin = new_pin\n",
    "            print(\"Pin changed successfully!\")\n",
    "            # self.menu()\n",
    "        else:\n",
    "            print(\"Invalid pin\")\n",
    "            # self.menu()\n",
    "\n",
    "    def check_balance(self):\n",
    "        user_pin = input(\"ENter your pin: \")\n",
    "        if user_pin == self.pin:\n",
    "            print(f\"Your current balance is {self.balance}\")\n",
    "        else:\n",
    "            print(\"Pin is incorrect, please try again...\")\n",
    "        # self.menu()\n",
    "\n",
    "    def withdraw_balance(self):\n",
    "        user_pin = input(\"ENter your pin: \")\n",
    "        if user_pin == self.pin:\n",
    "            withdraw_amount = int(input(\"ENter withdraw amount: \"))\n",
    "            if withdraw_amount <= self.balance:\n",
    "                self.balance = self.balance - withdraw_amount\n",
    "                print(f\"You got your money: {withdraw_amount}!!!\")\n",
    "                print(f\"Your available balance is: {self.balance}\")\n",
    "            else:\n",
    "                print(\"Insufficient Balance!!!\")\n",
    "        else:\n",
    "            print(\"Invalid pin.... Try again Please...\")\n",
    "        # self.menu()"
   ]
  },
  {
   "cell_type": "code",
   "execution_count": 2,
   "metadata": {},
   "outputs": [
    {
     "name": "stdout",
     "output_type": "stream",
     "text": [
      "1900789530192\n"
     ]
    }
   ],
   "source": [
    "obj = Atm()"
   ]
  },
  {
   "cell_type": "code",
   "execution_count": 5,
   "metadata": {},
   "outputs": [
    {
     "name": "stdout",
     "output_type": "stream",
     "text": [
      "Pin created successfully\n"
     ]
    }
   ],
   "source": [
    "obj.create_pin()"
   ]
  },
  {
   "cell_type": "code",
   "execution_count": 7,
   "metadata": {},
   "outputs": [
    {
     "name": "stdout",
     "output_type": "stream",
     "text": [
      "Your current balance is 5000\n"
     ]
    }
   ],
   "source": [
    "obj.check_balance()"
   ]
  },
  {
   "cell_type": "code",
   "execution_count": null,
   "metadata": {},
   "outputs": [],
   "source": [
    "# Let play with class variables and try to changes its values\n",
    "\n",
    "obj.balance = \"hello\""
   ]
  },
  {
   "cell_type": "code",
   "execution_count": 10,
   "metadata": {},
   "outputs": [
    {
     "name": "stdout",
     "output_type": "stream",
     "text": [
      "Your current balance is hello\n"
     ]
    }
   ],
   "source": [
    "obj.check_balance()  # It will show the balance as latest update"
   ]
  },
  {
   "cell_type": "code",
   "execution_count": 11,
   "metadata": {},
   "outputs": [
    {
     "ename": "TypeError",
     "evalue": "'<=' not supported between instances of 'int' and 'str'",
     "output_type": "error",
     "traceback": [
      "\u001b[1;31m---------------------------------------------------------------------------\u001b[0m",
      "\u001b[1;31mTypeError\u001b[0m                                 Traceback (most recent call last)",
      "Cell \u001b[1;32mIn[11], line 3\u001b[0m\n\u001b[0;32m      1\u001b[0m \u001b[38;5;66;03m# Now let check if we can withdraw balance\u001b[39;00m\n\u001b[1;32m----> 3\u001b[0m obj\u001b[38;5;241m.\u001b[39mwithdraw_balance()\n",
      "Cell \u001b[1;32mIn[1], line 79\u001b[0m, in \u001b[0;36mAtm.withdraw_balance\u001b[1;34m(self)\u001b[0m\n\u001b[0;32m     77\u001b[0m \u001b[38;5;28;01mif\u001b[39;00m user_pin \u001b[38;5;241m==\u001b[39m \u001b[38;5;28mself\u001b[39m\u001b[38;5;241m.\u001b[39mpin:\n\u001b[0;32m     78\u001b[0m     withdraw_amount \u001b[38;5;241m=\u001b[39m \u001b[38;5;28mint\u001b[39m(\u001b[38;5;28minput\u001b[39m(\u001b[38;5;124m\"\u001b[39m\u001b[38;5;124mENter withdraw amount: \u001b[39m\u001b[38;5;124m\"\u001b[39m))\n\u001b[1;32m---> 79\u001b[0m     \u001b[38;5;28;01mif\u001b[39;00m withdraw_amount \u001b[38;5;241m<\u001b[39m\u001b[38;5;241m=\u001b[39m \u001b[38;5;28mself\u001b[39m\u001b[38;5;241m.\u001b[39mbalance:\n\u001b[0;32m     80\u001b[0m         \u001b[38;5;28mself\u001b[39m\u001b[38;5;241m.\u001b[39mbalance \u001b[38;5;241m=\u001b[39m \u001b[38;5;28mself\u001b[39m\u001b[38;5;241m.\u001b[39mbalance \u001b[38;5;241m-\u001b[39m withdraw_amount\n\u001b[0;32m     81\u001b[0m         \u001b[38;5;28mprint\u001b[39m(\u001b[38;5;124mf\u001b[39m\u001b[38;5;124m\"\u001b[39m\u001b[38;5;124mYou got your money: \u001b[39m\u001b[38;5;132;01m{\u001b[39;00mwithdraw_amount\u001b[38;5;132;01m}\u001b[39;00m\u001b[38;5;124m!!!\u001b[39m\u001b[38;5;124m\"\u001b[39m)\n",
      "\u001b[1;31mTypeError\u001b[0m: '<=' not supported between instances of 'int' and 'str'"
     ]
    }
   ],
   "source": [
    "# Now let check if we can withdraw balance\n",
    "\n",
    "obj.withdraw_balance()   "
   ]
  },
  {
   "cell_type": "markdown",
   "metadata": {},
   "source": [
    "## Above error is throwing because we have stored string values in balance instance but we are comparing integer value of withdraw money from string value of balance ( because now balance has value \"hello\" which is string. )\n",
    "\n",
    "``` Integer and string cannot be compared ```"
   ]
  },
  {
   "cell_type": "markdown",
   "metadata": {},
   "source": [
    "``` \n",
    "To get rid of this accindntal changes in variable or instances\n",
    "Private variable concept in OOP in Encapsulation \n",
    "```"
   ]
  },
  {
   "cell_type": "code",
   "execution_count": 12,
   "metadata": {},
   "outputs": [],
   "source": [
    "class Atm:\n",
    "\n",
    "    # Constructor (special function) (super power)\n",
    "\n",
    "    def __init__(self):    # Constructor, it is used to initiazed all data while object creation\n",
    "        print(id(self))\n",
    "        self.pin = \"\"\n",
    "        self.__balance = 0  # private variable => if we use (__) before variable then becomes private variable\n",
    "        # self.menu()\n",
    "\n",
    "    \n",
    "    def __menu(self): # we can make private methods as well by using __ before it name.\n",
    "        user_input = input(\n",
    "            \"\"\"\n",
    "            HI How can I help you?\n",
    "\n",
    "            1. Press 1 to create pin\n",
    "            2. Press 2 to change pin\n",
    "            3. Press 3 to check balance\n",
    "            4. Press 4 to withdraw money\n",
    "            5. Anything to exit\n",
    "            \"\"\"\n",
    "        )\n",
    "\n",
    "        if user_input == \"1\":\n",
    "            # Create a pin\n",
    "            self.create_pin()\n",
    "\n",
    "        elif user_input == \"2\":\n",
    "            # Change pin\n",
    "            self.change_pin()\n",
    "\n",
    "        elif user_input == \"3\":\n",
    "            # Check balance\n",
    "            self.check_balance()\n",
    "\n",
    "        elif user_input == \"4\":\n",
    "            # Withdraw money\n",
    "            self.withdraw_balance()\n",
    "\n",
    "        else:\n",
    "            # Exit otherwise\n",
    "            exit()\n",
    "\n",
    "    def create_pin(self):\n",
    "        user_pin  = input(\"Enter your pin\")\n",
    "        self.pin = user_pin\n",
    "\n",
    "        user_balance = int(input(\"Enter balance\"))\n",
    "        self.__balance = user_balance\n",
    "\n",
    "        print(\"Pin created successfully\")\n",
    "        # self.menu()\n",
    "\n",
    "    def change_pin(self):\n",
    "        old_pin = input(\"Enter your old pin\")\n",
    "\n",
    "        if old_pin == self.pin:\n",
    "            new_pin = input(\"Enter new pin: \")\n",
    "            self.pin = new_pin\n",
    "            print(\"Pin changed successfully!\")\n",
    "            # self.menu()\n",
    "        else:\n",
    "            print(\"Invalid pin\")\n",
    "            # self.menu()\n",
    "\n",
    "    def check_balance(self):\n",
    "        user_pin = input(\"ENter your pin: \")\n",
    "        if user_pin == self.pin:\n",
    "            print(f\"Your current balance is {self.__balance}\")\n",
    "        else:\n",
    "            print(\"Pin is incorrect, please try again...\")\n",
    "        # self.menu()\n",
    "\n",
    "    def withdraw_balance(self):\n",
    "        user_pin = input(\"ENter your pin: \")\n",
    "        if user_pin == self.pin:\n",
    "            withdraw_amount = int(input(\"ENter withdraw amount: \"))\n",
    "            if withdraw_amount <= self.__balance:\n",
    "                self.__balance = self.__balance - withdraw_amount\n",
    "                print(f\"You got your money: {withdraw_amount}!!!\")\n",
    "                print(f\"Your available balance is: {self.__balance}\")\n",
    "            else:\n",
    "                print(\"Insufficient Balance!!!\")\n",
    "        else:\n",
    "            print(\"Invalid pin.... Try again Please...\")\n",
    "        # self.menu()"
   ]
  },
  {
   "cell_type": "code",
   "execution_count": 13,
   "metadata": {},
   "outputs": [
    {
     "name": "stdout",
     "output_type": "stream",
     "text": [
      "1900804417616\n"
     ]
    }
   ],
   "source": [
    "obj = Atm()"
   ]
  },
  {
   "cell_type": "code",
   "execution_count": 14,
   "metadata": {},
   "outputs": [
    {
     "name": "stdout",
     "output_type": "stream",
     "text": [
      "Pin created successfully\n"
     ]
    }
   ],
   "source": [
    "obj.create_pin()"
   ]
  },
  {
   "cell_type": "code",
   "execution_count": 15,
   "metadata": {},
   "outputs": [],
   "source": [
    "# Now lets try to changes the private variable this time.\n",
    "\n",
    "obj.__balance = \"hello\""
   ]
  },
  {
   "cell_type": "code",
   "execution_count": 16,
   "metadata": {},
   "outputs": [
    {
     "name": "stdout",
     "output_type": "stream",
     "text": [
      "Your current balance is 4000\n"
     ]
    }
   ],
   "source": [
    "obj.check_balance()  # so private variable is not changed this time"
   ]
  },
  {
   "cell_type": "markdown",
   "metadata": {},
   "source": [
    "## So here when we define any private variable inside class in constructor like this => __balance = 0, then python treat this variable as _Atm__balance = 0 . It means _classname__variablename.\n",
    "\n",
    "```\n",
    "So when I am using obj.__balance = \"hello\" then it is not accessing my private variable. Instead it creating one another instance of same class using object of class from outside of the class.\n",
    "```\n",
    "\n",
    "```\n",
    "And if we want to access private variable of the class from any object of the class then we need to obj._Atm__balance => it will show value of private variable/instance.\n",
    "\n",
    "If we want to access this newly created instance (__balance) then simply use obj.__balance.\n",
    "```\n",
    "\n",
    "```\n",
    "Check below\n",
    "```"
   ]
  },
  {
   "cell_type": "code",
   "execution_count": 17,
   "metadata": {},
   "outputs": [
    {
     "data": {
      "text/plain": [
       "4000"
      ]
     },
     "execution_count": 17,
     "metadata": {},
     "output_type": "execute_result"
    }
   ],
   "source": [
    "# Accessing private variable of the class\n",
    "\n",
    "obj._Atm__balance  # Showing actual value which is stored, and it\n",
    "                   # cannot be changed from outside of class"
   ]
  },
  {
   "cell_type": "code",
   "execution_count": 18,
   "metadata": {},
   "outputs": [
    {
     "data": {
      "text/plain": [
       "'hello'"
      ]
     },
     "execution_count": 18,
     "metadata": {},
     "output_type": "execute_result"
    }
   ],
   "source": [
    "# Accessing instance which is created from outside class\n",
    "\n",
    "obj.__balance"
   ]
  },
  {
   "cell_type": "code",
   "execution_count": 19,
   "metadata": {},
   "outputs": [
    {
     "name": "stdout",
     "output_type": "stream",
     "text": [
      "{'pin': '123', '_Atm__balance': 4000, '__balance': 'hello'}\n"
     ]
    }
   ],
   "source": [
    "print(obj.__dict__) # It will show all the instance of class\n",
    "\n",
    "# _Atm_balance is private instance and __balance is instance\n",
    "# created from outside of the class using object."
   ]
  },
  {
   "cell_type": "code",
   "execution_count": 20,
   "metadata": {},
   "outputs": [
    {
     "name": "stdout",
     "output_type": "stream",
     "text": [
      "You got your money: 500!!!\n",
      "Your available balance is: 3500\n"
     ]
    }
   ],
   "source": [
    "obj.withdraw_balance()"
   ]
  },
  {
   "cell_type": "markdown",
   "metadata": {},
   "source": [
    "# ------------------------------------\n",
    "\n",
    "Lets do some hack here"
   ]
  },
  {
   "cell_type": "code",
   "execution_count": 21,
   "metadata": {},
   "outputs": [],
   "source": [
    "# Let try to change the private variable from outside of the class\n",
    "\n",
    "\n",
    "obj._Atm__balance = \"Sawan\"  "
   ]
  },
  {
   "cell_type": "code",
   "execution_count": 22,
   "metadata": {},
   "outputs": [
    {
     "name": "stdout",
     "output_type": "stream",
     "text": [
      "Your current balance is Sawan\n"
     ]
    }
   ],
   "source": [
    "# Lets check the balance now\n",
    "\n",
    "obj.check_balance()"
   ]
  },
  {
   "cell_type": "markdown",
   "metadata": {},
   "source": [
    "#### So even if we had private variable we are able to change it using our hack. This is hack is the knowledge of how python create private variable name changing in the memory. It means if try \" Obj._classname__variablename \" then even, we can change the value of private variables, which is should not happen.\n",
    "\n",
    "So in python there is quote:\n",
    "```\n",
    "In python there is nothing called private,\n",
    "It is for adults\n",
    "```\n",
    "Means if you are adult or knowledgable enough then use python language"
   ]
  },
  {
   "cell_type": "code",
   "execution_count": null,
   "metadata": {},
   "outputs": [],
   "source": []
  },
  {
   "cell_type": "code",
   "execution_count": null,
   "metadata": {},
   "outputs": [],
   "source": []
  }
 ],
 "metadata": {
  "kernelspec": {
   "display_name": "base",
   "language": "python",
   "name": "python3"
  },
  "language_info": {
   "codemirror_mode": {
    "name": "ipython",
    "version": 3
   },
   "file_extension": ".py",
   "mimetype": "text/x-python",
   "name": "python",
   "nbconvert_exporter": "python",
   "pygments_lexer": "ipython3",
   "version": "3.11.5"
  }
 },
 "nbformat": 4,
 "nbformat_minor": 2
}
