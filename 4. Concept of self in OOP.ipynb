{
 "cells": [
  {
   "cell_type": "code",
   "execution_count": 1,
   "metadata": {},
   "outputs": [],
   "source": [
    "class AtmMachineICICI:\n",
    "    def __init__(self):    # Constructor, it is used to initiazed all data while object creation\n",
    "        print(id(self))\n",
    "        self.pin = \"\"\n",
    "        self.balance = 0\n",
    "        # self.menu()\n",
    "\n",
    "    \n",
    "    def menu(self):\n",
    "        user_input = input(\n",
    "            \"\"\"\n",
    "            HI How can I help you?\n",
    "\n",
    "            1. Press 1 to create pin\n",
    "            2. Press 2 to change pin\n",
    "            3. Press 3 to check balance\n",
    "            4. Press 4 to withdraw money\n",
    "            5. Anything to exit\n",
    "            \"\"\"\n",
    "        )\n",
    "\n",
    "        if user_input == \"1\":\n",
    "            # Create a pin\n",
    "            self.create_pin()\n",
    "\n",
    "        elif user_input == \"2\":\n",
    "            # Change pin\n",
    "            self.change_pin()\n",
    "\n",
    "        elif user_input == \"3\":\n",
    "            # Check balance\n",
    "            self.check_balance()\n",
    "\n",
    "        elif user_input == \"4\":\n",
    "            # Withdraw money\n",
    "            self.withdraw_balance()\n",
    "\n",
    "        else:\n",
    "            # Exit otherwise\n",
    "            pass\n",
    "\n",
    "    def create_pin(self):\n",
    "        user_pin  = input(\"Enter your pin\")\n",
    "        self.pin = user_pin\n",
    "\n",
    "        user_balance = int(input(\"Enter balance\"))\n",
    "        self.balance = user_balance\n",
    "\n",
    "        print(\"Pin created successfully\")\n",
    "        self.menu()\n",
    "\n",
    "    def change_pin(self):\n",
    "        old_pin = input(\"Enter your old pin\")\n",
    "\n",
    "        if old_pin == self.pin:\n",
    "            new_pin = input(\"Enter new pin: \")\n",
    "            self.pin = new_pin\n",
    "            print(\"Pin changed successfully!\")\n",
    "            self.menu()\n",
    "        else:\n",
    "            print(\"Invalid pin\")\n",
    "            self.menu()\n",
    "\n",
    "    def check_balance(self):\n",
    "        user_pin = input(\"ENter your pin: \")\n",
    "        if user_pin == self.pin:\n",
    "            print(f\"Your current balance is {self.balance}\")\n",
    "        else:\n",
    "            print(\"Pin is incorrect, please try again...\")\n",
    "        self.menu()\n",
    "\n",
    "    def withdraw_balance(self):\n",
    "        user_pin = input(\"ENter your pin: \")\n",
    "        if user_pin == self.pin:\n",
    "            withdraw_amount = int(input(\"ENter withdraw amount: \"))\n",
    "            if withdraw_amount <= self.balance:\n",
    "                self.balance = self.balance - withdraw_amount\n",
    "                print(f\"You got your money: {withdraw_amount}!!!\")\n",
    "                print(f\"Your available balance is: {self.balance}\")\n",
    "            else:\n",
    "                print(\"Insufficient Balance!!!\")\n",
    "        else:\n",
    "            print(\"Invalid pin.... Try again Please...\")\n",
    "        self.menu()\n",
    "\n"
   ]
  },
  {
   "cell_type": "code",
   "execution_count": 2,
   "metadata": {},
   "outputs": [
    {
     "name": "stdout",
     "output_type": "stream",
     "text": [
      "1597405885904\n"
     ]
    }
   ],
   "source": [
    "obj = AtmMachineICICI()"
   ]
  },
  {
   "cell_type": "code",
   "execution_count": 3,
   "metadata": {},
   "outputs": [
    {
     "data": {
      "text/plain": [
       "1597405885904"
      ]
     },
     "execution_count": 3,
     "metadata": {},
     "output_type": "execute_result"
    }
   ],
   "source": [
    "id(obj)"
   ]
  },
  {
   "cell_type": "markdown",
   "metadata": {},
   "source": [
    "```\n",
    "We use self to define data property or methods of class to use inside the class anywhere in the class.\n",
    "\n",
    "If we will use any methods and data or variable of class in any other different methods of same class without using self. then it will give as it will not identify which methods or data is trying to check.\n",
    "\n",
    "```"
   ]
  },
  {
   "cell_type": "markdown",
   "metadata": {},
   "source": []
  }
 ],
 "metadata": {
  "kernelspec": {
   "display_name": "base",
   "language": "python",
   "name": "python3"
  },
  "language_info": {
   "codemirror_mode": {
    "name": "ipython",
    "version": 3
   },
   "file_extension": ".py",
   "mimetype": "text/x-python",
   "name": "python",
   "nbconvert_exporter": "python",
   "pygments_lexer": "ipython3",
   "version": "3.11.5"
  }
 },
 "nbformat": 4,
 "nbformat_minor": 2
}
