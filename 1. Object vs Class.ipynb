{
 "cells": [
  {
   "cell_type": "code",
   "execution_count": 2,
   "id": "9a6fbc54",
   "metadata": {},
   "outputs": [
    {
     "ename": "AttributeError",
     "evalue": "'list' object has no attribute 'upper'",
     "output_type": "error",
     "traceback": [
      "\u001b[1;31m---------------------------------------------------------------------------\u001b[0m",
      "\u001b[1;31mAttributeError\u001b[0m                            Traceback (most recent call last)",
      "Cell \u001b[1;32mIn[2], line 2\u001b[0m\n\u001b[0;32m      1\u001b[0m L \u001b[38;5;241m=\u001b[39m [\u001b[38;5;241m1\u001b[39m,\u001b[38;5;241m2\u001b[39m,\u001b[38;5;241m3\u001b[39m,\u001b[38;5;241m4\u001b[39m]\n\u001b[1;32m----> 2\u001b[0m L\u001b[38;5;241m.\u001b[39mupper()\n",
      "\u001b[1;31mAttributeError\u001b[0m: 'list' object has no attribute 'upper'"
     ]
    }
   ],
   "source": [
    "L = [1,2,3,4]\n",
    "L.upper()"
   ]
  },
  {
   "cell_type": "code",
   "execution_count": 6,
   "id": "8757d088",
   "metadata": {},
   "outputs": [
    {
     "ename": "AttributeError",
     "evalue": "'str' object has no attribute 'append'",
     "output_type": "error",
     "traceback": [
      "\u001b[1;31m---------------------------------------------------------------------------\u001b[0m",
      "\u001b[1;31mAttributeError\u001b[0m                            Traceback (most recent call last)",
      "Cell \u001b[1;32mIn[6], line 3\u001b[0m\n\u001b[0;32m      1\u001b[0m S \u001b[38;5;241m=\u001b[39m \u001b[38;5;124m\"\u001b[39m\u001b[38;5;124msawan\u001b[39m\u001b[38;5;124m\"\u001b[39m\n\u001b[1;32m----> 3\u001b[0m S\u001b[38;5;241m.\u001b[39mappend(\u001b[38;5;124m\"\u001b[39m\u001b[38;5;124myadav\u001b[39m\u001b[38;5;124m\"\u001b[39m)\n",
      "\u001b[1;31mAttributeError\u001b[0m: 'str' object has no attribute 'append'"
     ]
    }
   ],
   "source": [
    "S = \"sawan\"\n",
    "\n",
    "S.append(\"yadav\")"
   ]
  },
  {
   "cell_type": "markdown",
   "id": "01abd04c",
   "metadata": {},
   "source": [
    "## These errors are coming because list class does not have upper method and string class does not have append method."
   ]
  },
  {
   "cell_type": "markdown",
   "id": "7a69e5cd",
   "metadata": {},
   "source": [
    "# All the data types are class and its variables are object of that class"
   ]
  },
  {
   "cell_type": "code",
   "execution_count": 4,
   "id": "5e86e03b",
   "metadata": {},
   "outputs": [
    {
     "name": "stdout",
     "output_type": "stream",
     "text": [
      "[1, 2, 3, 4, 10]\n"
     ]
    }
   ],
   "source": [
    "L.append(10)\n",
    "print(L)"
   ]
  },
  {
   "cell_type": "code",
   "execution_count": 10,
   "id": "4e6261df",
   "metadata": {},
   "outputs": [
    {
     "name": "stdout",
     "output_type": "stream",
     "text": [
      "SAWAN\n"
     ]
    }
   ],
   "source": [
    "S= S.upper()\n",
    "print(S)"
   ]
  },
  {
   "cell_type": "markdown",
   "id": "48330d9d",
   "metadata": {},
   "source": [
    "## Syntax of defining class"
   ]
  },
  {
   "cell_type": "markdown",
   "id": "c186ced2",
   "metadata": {},
   "source": [
    "## object_name = class_name"
   ]
  },
  {
   "cell_type": "markdown",
   "id": "c18163ed",
   "metadata": {},
   "source": [
    "## Basic Structure of class\n",
    "\n",
    "#### class Car:\n",
    "        data1\n",
    "        data2\n",
    "        def car_details(km, time):\n",
    "            #some code"
   ]
  },
  {
   "cell_type": "markdown",
   "id": "f12f4732",
   "metadata": {},
   "source": [
    "#### car1 = Car()   ===> To define the object of class"
   ]
  },
  {
   "cell_type": "code",
   "execution_count": null,
   "id": "91bdc301",
   "metadata": {},
   "outputs": [],
   "source": []
  }
 ],
 "metadata": {
  "kernelspec": {
   "display_name": "Python 3 (ipykernel)",
   "language": "python",
   "name": "python3"
  },
  "language_info": {
   "codemirror_mode": {
    "name": "ipython",
    "version": 3
   },
   "file_extension": ".py",
   "mimetype": "text/x-python",
   "name": "python",
   "nbconvert_exporter": "python",
   "pygments_lexer": "ipython3",
   "version": "3.11.5"
  }
 },
 "nbformat": 4,
 "nbformat_minor": 5
}
