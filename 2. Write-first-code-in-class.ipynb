{
 "cells": [
  {
   "cell_type": "markdown",
   "id": "d4f66f2f",
   "metadata": {},
   "source": [
    "## Banking Application => ATM Machine"
   ]
  },
  {
   "cell_type": "code",
   "execution_count": 1,
   "id": "1f87fbb0",
   "metadata": {},
   "outputs": [
    {
     "data": {
      "text/plain": [
       "0"
      ]
     },
     "execution_count": 1,
     "metadata": {},
     "output_type": "execute_result"
    }
   ],
   "source": [
    "list()\n",
    "str()\n",
    "int()"
   ]
  },
  {
   "cell_type": "markdown",
   "id": "1d84ae05",
   "metadata": {},
   "source": [
    "## Any function outside any class and without self argument\n",
    "## is called as function.\n",
    "\n",
    "```\n",
    "    def add_number(a,b):\n",
    "            c= a+b\n",
    "            print(c)\n",
    "            ```\n",
    "\n",
    "## Any function inside any class and having self argument\n",
    "## is called as methods\n",
    "\n",
    "``` class ATM:\n",
    "        def create_pin(self):\n",
    "                user_pin  = input(\"Enter your pin\")\n",
    "                self.pin = user_pin\n",
    "\n",
    "                user_balance = int(input(\"Enter balance\"))\n",
    "                self.balance = user_balance\n",
    "\n",
    "                print(\"Pin created successfully\")\n",
    "                self.menu()\n",
    "                ```"
   ]
  },
  {
   "cell_type": "code",
   "execution_count": null,
   "id": "36946aa9",
   "metadata": {},
   "outputs": [],
   "source": [
    "L = [1,2,3]\n",
    "len(L) ## This is length function\n",
    "L.append(6)  ## This is method of object L of list"
   ]
  },
  {
   "cell_type": "code",
   "execution_count": 2,
   "id": "c9cb2744",
   "metadata": {},
   "outputs": [],
   "source": [
    "# Pacel case wirting\n",
    "\n",
    "# HelloWorld\n",
    "# SendMessage\n",
    "\n",
    "## Write first letter of word capital and not space or underscore"
   ]
  },
  {
   "cell_type": "code",
   "execution_count": null,
   "id": "a26b1216",
   "metadata": {},
   "outputs": [],
   "source": [
    "# pin = \n",
    "# balance = "
   ]
  },
  {
   "cell_type": "code",
   "execution_count": 39,
   "id": "74122e88",
   "metadata": {},
   "outputs": [],
   "source": [
    "class AtmMachineICICI:\n",
    "    def __init__(self):    # Constructor, it is used to initiazed all data while object creation\n",
    "        self.pin = \"\"\n",
    "        self.balance = 0\n",
    "        self.menu()\n",
    "\n",
    "    \n",
    "    def menu(self):\n",
    "        user_input = input(\n",
    "            \"\"\"\n",
    "            HI How can I help you?\n",
    "\n",
    "            1. Press 1 to create pin\n",
    "            2. Press 2 to change pin\n",
    "            3. Press 3 to check balance\n",
    "            4. Press 4 to withdraw money\n",
    "            5. Anything to exit\n",
    "            \"\"\"\n",
    "        )\n",
    "\n",
    "        if user_input == \"1\":\n",
    "            # Create a pin\n",
    "            self.create_pin()\n",
    "\n",
    "        elif user_input == \"2\":\n",
    "            # Change pin\n",
    "            self.change_pin()\n",
    "\n",
    "        elif user_input == \"3\":\n",
    "            # Check balance\n",
    "            self.check_balance()\n",
    "\n",
    "        elif user_input == \"4\":\n",
    "            # Withdraw money\n",
    "            self.withdraw_balance()\n",
    "\n",
    "        else:\n",
    "            # Exit otherwise\n",
    "            pass\n",
    "\n",
    "    def create_pin(self):\n",
    "        user_pin  = input(\"Enter your pin\")\n",
    "        self.pin = user_pin\n",
    "\n",
    "        user_balance = int(input(\"Enter balance\"))\n",
    "        self.balance = user_balance\n",
    "\n",
    "        print(\"Pin created successfully\")\n",
    "        self.menu()\n",
    "\n",
    "    def change_pin(self):\n",
    "        old_pin = input(\"Enter your old pin\")\n",
    "\n",
    "        if old_pin == self.pin:\n",
    "            new_pin = input(\"Enter new pin: \")\n",
    "            self.pin = new_pin\n",
    "            print(\"Pin changed successfully!\")\n",
    "            self.menu()\n",
    "        else:\n",
    "            print(\"Invalid pin\")\n",
    "            self.menu()\n",
    "\n",
    "    def check_balance(self):\n",
    "        user_pin = input(\"ENter your pin: \")\n",
    "        if user_pin == self.pin:\n",
    "            print(f\"Your current balance is {self.balance}\")\n",
    "        else:\n",
    "            print(\"Pin is incorrect, please try again...\")\n",
    "        self.menu()\n",
    "\n",
    "    def withdraw_balance(self):\n",
    "        user_pin = input(\"ENter your pin: \")\n",
    "        if user_pin == self.pin:\n",
    "            withdraw_amount = int(input(\"ENter withdraw amount: \"))\n",
    "            if withdraw_amount <= self.balance:\n",
    "                self.balance = self.balance - withdraw_amount\n",
    "                print(f\"You got your money: {withdraw_amount}!!!\")\n",
    "                print(f\"Your available balance is: {self.balance}\")\n",
    "            else:\n",
    "                print(\"Insufficient Balance!!!\")\n",
    "        else:\n",
    "            print(\"Invalid pin.... Try again Please...\")\n",
    "        self.menu()\n",
    "\n",
    "\n",
    "\n",
    "class AtmMachineSBI:\n",
    "    def __init__(self):    # Constructor, it is used to initiazed all data while object creation\n",
    "        self.pin = \"\"\n",
    "        self.balance = 0\n",
    "        self.menu()\n",
    "\n",
    "    \n",
    "    def menu(self):\n",
    "        user_input = input(\n",
    "            \"\"\"\n",
    "            HI How can I help you?\n",
    "\n",
    "            1. Press 1 to create pin\n",
    "            2. Press 2 to change pin\n",
    "            3. Press 3 to check balance\n",
    "            4. Press 4 to withdraw money\n",
    "            5. Anything to exit\n",
    "            \"\"\"\n",
    "        )\n",
    "\n",
    "        if user_input == \"1\":\n",
    "            # Create a pin\n",
    "            self.create_pin()\n",
    "\n",
    "        elif user_input == \"2\":\n",
    "            # Change pin\n",
    "            self.change_pin()\n",
    "\n",
    "        elif user_input == \"3\":\n",
    "            # Check balance\n",
    "            self.check_balance()\n",
    "\n",
    "        elif user_input == \"4\":\n",
    "            # Withdraw money\n",
    "            self.withdraw_balance()\n",
    "\n",
    "        else:\n",
    "            # Exit otherwise\n",
    "            pass\n",
    "\n",
    "    def create_pin(self):\n",
    "        user_pin  = input(\"Enter your pin\")\n",
    "        self.pin = user_pin\n",
    "\n",
    "        user_balance = int(input(\"Enter balance\"))\n",
    "        self.balance = user_balance\n",
    "\n",
    "        print(\"Pin created successfully\")\n",
    "        self.menu()\n",
    "\n",
    "    def change_pin(self):\n",
    "        old_pin = input(\"Enter your old pin\")\n",
    "\n",
    "        if old_pin == self.pin:\n",
    "            new_pin = input(\"Enter new pin: \")\n",
    "            self.pin = new_pin\n",
    "            print(\"Pin changed successfully!\")\n",
    "            self.menu()\n",
    "        else:\n",
    "            print(\"Invalid pin\")\n",
    "            self.menu()\n",
    "\n",
    "    def check_balance(self):\n",
    "        user_pin = input(\"ENter your pin: \")\n",
    "        if user_pin == self.pin:\n",
    "            print(f\"Your current balance is {self.balance}\")\n",
    "        else:\n",
    "            print(\"Pin is incorrect, please try again...\")\n",
    "        self.menu()\n",
    "\n",
    "    def withdraw_balance(self):\n",
    "        user_pin = input(\"ENter your pin: \")\n",
    "        if user_pin == self.pin:\n",
    "            withdraw_amount = int(input(\"ENter withdraw amount: \"))\n",
    "            if withdraw_amount <= self.balance:\n",
    "                self.balance = self.balance - withdraw_amount\n",
    "                print(f\"You got your money: {withdraw_amount}!!!\")\n",
    "                print(f\"Your available balance is: {self.balance}\")\n",
    "            else:\n",
    "                print(\"Insufficient Balance!!!\")\n",
    "        else:\n",
    "            print(\"Invalid pin.... Try again Please...\")\n",
    "        self.menu()\n",
    "\n"
   ]
  },
  {
   "cell_type": "code",
   "execution_count": null,
   "id": "eaf6d5c5",
   "metadata": {},
   "outputs": [],
   "source": [
    "obj1 = AtmMachineICICI()  # Object of ICICI ATM"
   ]
  },
  {
   "cell_type": "code",
   "execution_count": 41,
   "id": "42a5f83f",
   "metadata": {},
   "outputs": [],
   "source": [
    "obj2 = AtmMachineSBI()  # Object of SBI ATM"
   ]
  },
  {
   "cell_type": "code",
   "execution_count": 23,
   "id": "8388a651",
   "metadata": {},
   "outputs": [
    {
     "data": {
      "text/plain": [
       "'1234'"
      ]
     },
     "execution_count": 23,
     "metadata": {},
     "output_type": "execute_result"
    }
   ],
   "source": [
    "obj1.pin # FOr calling objec intances"
   ]
  },
  {
   "cell_type": "code",
   "execution_count": 5,
   "id": "ee7b59c7",
   "metadata": {},
   "outputs": [
    {
     "name": "stdout",
     "output_type": "stream",
     "text": [
      "<class '__main__.AtmMachine'>\n"
     ]
    }
   ],
   "source": [
    "print(type(obj1))"
   ]
  },
  {
   "cell_type": "code",
   "execution_count": 8,
   "id": "7ed458ef",
   "metadata": {},
   "outputs": [],
   "source": [
    "obj1.menu()\n"
   ]
  },
  {
   "cell_type": "code",
   "execution_count": 9,
   "id": "4181c7c3",
   "metadata": {},
   "outputs": [
    {
     "data": {
      "text/plain": [
       "0"
      ]
     },
     "execution_count": 9,
     "metadata": {},
     "output_type": "execute_result"
    }
   ],
   "source": [
    "obj1.balance"
   ]
  },
  {
   "cell_type": "code",
   "execution_count": null,
   "id": "e2532077",
   "metadata": {},
   "outputs": [],
   "source": []
  }
 ],
 "metadata": {
  "kernelspec": {
   "display_name": "Python 3",
   "language": "python",
   "name": "python3"
  },
  "language_info": {
   "codemirror_mode": {
    "name": "ipython",
    "version": 3
   },
   "file_extension": ".py",
   "mimetype": "text/x-python",
   "name": "python",
   "nbconvert_exporter": "python",
   "pygments_lexer": "ipython3",
   "version": "3.11.5"
  }
 },
 "nbformat": 4,
 "nbformat_minor": 5
}
