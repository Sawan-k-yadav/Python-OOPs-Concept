{
 "cells": [
  {
   "cell_type": "markdown",
   "metadata": {},
   "source": [
    "# Static variable and methods of class in OOP"
   ]
  },
  {
   "cell_type": "code",
   "execution_count": 2,
   "metadata": {},
   "outputs": [],
   "source": [
    "class Atm:\n",
    "\n",
    "    # Constructor (special function) (super power)\n",
    "\n",
    "    def __init__(self):    # Constructor, it is used to initiazed all data while object creation\n",
    "        # print(id(self))\n",
    "        self.pin = \"\"\n",
    "        self.balance = 0  \n",
    "        # self.menu()\n",
    "        self.customer_id = 0\n",
    "        self.customer_id +=1 # Let say we want to create unique id for each new customer\n",
    "\n",
    "    \n",
    "    def __menu(self): # we can make private methods as well by using __ before it name.\n",
    "        user_input = input(\n",
    "            \"\"\"\n",
    "            HI How can I help you?\n",
    "\n",
    "            1. Press 1 to create pin\n",
    "            2. Press 2 to change pin\n",
    "            3. Press 3 to check balance\n",
    "            4. Press 4 to withdraw money\n",
    "            5. Anything to exit\n",
    "            \"\"\"\n",
    "        )\n",
    "\n",
    "        if user_input == \"1\":\n",
    "            # Create a pin\n",
    "            self.create_pin()\n",
    "\n",
    "        elif user_input == \"2\":\n",
    "            # Change pin\n",
    "            self.change_pin()\n",
    "\n",
    "        elif user_input == \"3\":\n",
    "            # Check balance\n",
    "            self.check_balance()\n",
    "\n",
    "        elif user_input == \"4\":\n",
    "            # Withdraw money\n",
    "            self.withdraw_balance()\n",
    "\n",
    "        else:\n",
    "            # Exit otherwise\n",
    "            exit()\n",
    "\n",
    "    def create_pin(self):\n",
    "        user_pin  = input(\"Enter your pin\")\n",
    "        self.pin = user_pin\n",
    "\n",
    "        user_balance = int(input(\"Enter balance\"))\n",
    "        self.__balance = user_balance\n",
    "\n",
    "        print(\"Pin created successfully\")\n",
    "        # self.menu()\n",
    "\n",
    "    def change_pin(self):\n",
    "        old_pin = input(\"Enter your old pin\")\n",
    "\n",
    "        if old_pin == self.pin:\n",
    "            new_pin = input(\"Enter new pin: \")\n",
    "            self.pin = new_pin\n",
    "            print(\"Pin changed successfully!\")\n",
    "            # self.menu()\n",
    "        else:\n",
    "            print(\"Invalid pin\")\n",
    "            # self.menu()\n",
    "\n",
    "    def check_balance(self):\n",
    "        user_pin = input(\"ENter your pin: \")\n",
    "        if user_pin == self.pin:\n",
    "            print(f\"Your current balance is {self.__balance}\")\n",
    "        else:\n",
    "            print(\"Pin is incorrect, please try again...\")\n",
    "        # self.menu()\n",
    "\n",
    "    def withdraw_balance(self):\n",
    "        user_pin = input(\"ENter your pin: \")\n",
    "        if user_pin == self.pin:\n",
    "            withdraw_amount = int(input(\"ENter withdraw amount: \"))\n",
    "            if withdraw_amount <= self.__balance:\n",
    "                self.__balance = self.__balance - withdraw_amount\n",
    "                print(f\"You got your money: {withdraw_amount}!!!\")\n",
    "                print(f\"Your available balance is: {self.__balance}\")\n",
    "            else:\n",
    "                print(\"Insufficient Balance!!!\")\n",
    "        else:\n",
    "            print(\"Invalid pin.... Try again Please...\")\n",
    "        # self.menu()"
   ]
  },
  {
   "cell_type": "code",
   "execution_count": 3,
   "metadata": {},
   "outputs": [],
   "source": [
    "c1 = Atm()"
   ]
  },
  {
   "cell_type": "code",
   "execution_count": 4,
   "metadata": {},
   "outputs": [
    {
     "data": {
      "text/plain": [
       "1"
      ]
     },
     "execution_count": 4,
     "metadata": {},
     "output_type": "execute_result"
    }
   ],
   "source": [
    "c1.customer_id  # As it is first customer so its id is = 1"
   ]
  },
  {
   "cell_type": "code",
   "execution_count": 5,
   "metadata": {},
   "outputs": [],
   "source": [
    "c2 = Atm()  # As it is 2nd customer, so its id should be 2"
   ]
  },
  {
   "cell_type": "code",
   "execution_count": 6,
   "metadata": {},
   "outputs": [
    {
     "data": {
      "text/plain": [
       "1"
      ]
     },
     "execution_count": 6,
     "metadata": {},
     "output_type": "execute_result"
    }
   ],
   "source": [
    "c2.customer_id # It is also giving id is = 1 \n",
    "\n",
    "\n",
    "# this is because we are not using statis variable concept,\n",
    "# Each time we are making customer_id = 0 then increamenting to 1"
   ]
  },
  {
   "cell_type": "markdown",
   "metadata": {},
   "source": [
    "### Static variable should created inside class and not inside any methods"
   ]
  },
  {
   "cell_type": "code",
   "execution_count": 7,
   "metadata": {},
   "outputs": [],
   "source": [
    "class Atm:\n",
    "\n",
    "    # Static Variable\n",
    "\n",
    "    customer_id = 0\n",
    "\n",
    "    # Constructor (special function) (super power)\n",
    "\n",
    "    def __init__(self):    # Constructor, it is used to initiazed all data while object creation\n",
    "        # print(id(self))\n",
    "        self.pin = \"\"\n",
    "        self.balance = 0  \n",
    "        # self.menu()\n",
    "        self.customer_id = Atm.customer_id\n",
    "        Atm.customer_id += 1\n",
    "        \n",
    "\n",
    "    \n",
    "    def __menu(self): # we can make private methods as well by using __ before it name.\n",
    "        user_input = input(\n",
    "            \"\"\"\n",
    "            HI How can I help you?\n",
    "\n",
    "            1. Press 1 to create pin\n",
    "            2. Press 2 to change pin\n",
    "            3. Press 3 to check balance\n",
    "            4. Press 4 to withdraw money\n",
    "            5. Anything to exit\n",
    "            \"\"\"\n",
    "        )\n",
    "\n",
    "        if user_input == \"1\":\n",
    "            # Create a pin\n",
    "            self.create_pin()\n",
    "\n",
    "        elif user_input == \"2\":\n",
    "            # Change pin\n",
    "            self.change_pin()\n",
    "\n",
    "        elif user_input == \"3\":\n",
    "            # Check balance\n",
    "            self.check_balance()\n",
    "\n",
    "        elif user_input == \"4\":\n",
    "            # Withdraw money\n",
    "            self.withdraw_balance()\n",
    "\n",
    "        else:\n",
    "            # Exit otherwise\n",
    "            exit()\n",
    "\n",
    "    def create_pin(self):\n",
    "        user_pin  = input(\"Enter your pin\")\n",
    "        self.pin = user_pin\n",
    "\n",
    "        user_balance = int(input(\"Enter balance\"))\n",
    "        self.__balance = user_balance\n",
    "\n",
    "        print(\"Pin created successfully\")\n",
    "        # self.menu()\n",
    "\n",
    "    def change_pin(self):\n",
    "        old_pin = input(\"Enter your old pin\")\n",
    "\n",
    "        if old_pin == self.pin:\n",
    "            new_pin = input(\"Enter new pin: \")\n",
    "            self.pin = new_pin\n",
    "            print(\"Pin changed successfully!\")\n",
    "            # self.menu()\n",
    "        else:\n",
    "            print(\"Invalid pin\")\n",
    "            # self.menu()\n",
    "\n",
    "    def check_balance(self):\n",
    "        user_pin = input(\"ENter your pin: \")\n",
    "        if user_pin == self.pin:\n",
    "            print(f\"Your current balance is {self.__balance}\")\n",
    "        else:\n",
    "            print(\"Pin is incorrect, please try again...\")\n",
    "        # self.menu()\n",
    "\n",
    "    def withdraw_balance(self):\n",
    "        user_pin = input(\"ENter your pin: \")\n",
    "        if user_pin == self.pin:\n",
    "            withdraw_amount = int(input(\"ENter withdraw amount: \"))\n",
    "            if withdraw_amount <= self.__balance:\n",
    "                self.__balance = self.__balance - withdraw_amount\n",
    "                print(f\"You got your money: {withdraw_amount}!!!\")\n",
    "                print(f\"Your available balance is: {self.__balance}\")\n",
    "            else:\n",
    "                print(\"Insufficient Balance!!!\")\n",
    "        else:\n",
    "            print(\"Invalid pin.... Try again Please...\")\n",
    "        # self.menu()"
   ]
  },
  {
   "cell_type": "code",
   "execution_count": 8,
   "metadata": {},
   "outputs": [],
   "source": [
    "c1 = Atm()"
   ]
  },
  {
   "cell_type": "code",
   "execution_count": 9,
   "metadata": {},
   "outputs": [
    {
     "data": {
      "text/plain": [
       "1"
      ]
     },
     "execution_count": 9,
     "metadata": {},
     "output_type": "execute_result"
    }
   ],
   "source": [
    "Atm.customer_id # Static variable updating from 1"
   ]
  },
  {
   "cell_type": "code",
   "execution_count": 10,
   "metadata": {},
   "outputs": [
    {
     "data": {
      "text/plain": [
       "0"
      ]
     },
     "execution_count": 10,
     "metadata": {},
     "output_type": "execute_result"
    }
   ],
   "source": [
    "c1.customer_id # Instance variable updating from 0"
   ]
  },
  {
   "cell_type": "code",
   "execution_count": 11,
   "metadata": {},
   "outputs": [],
   "source": [
    "c2 = Atm()"
   ]
  },
  {
   "cell_type": "code",
   "execution_count": 12,
   "metadata": {},
   "outputs": [
    {
     "data": {
      "text/plain": [
       "2"
      ]
     },
     "execution_count": 12,
     "metadata": {},
     "output_type": "execute_result"
    }
   ],
   "source": [
    "Atm.customer_id"
   ]
  },
  {
   "cell_type": "code",
   "execution_count": 13,
   "metadata": {},
   "outputs": [
    {
     "data": {
      "text/plain": [
       "1"
      ]
     },
     "execution_count": 13,
     "metadata": {},
     "output_type": "execute_result"
    }
   ],
   "source": [
    "c2.customer_id"
   ]
  },
  {
   "cell_type": "markdown",
   "metadata": {},
   "source": [
    "### Now if we want to make out static variable private and then use getter and setter method, then do like below"
   ]
  },
  {
   "cell_type": "code",
   "execution_count": 17,
   "metadata": {},
   "outputs": [],
   "source": [
    "class Atm:\n",
    "\n",
    "    # Static Private Variable\n",
    "\n",
    "    __customer_id = 0\n",
    "\n",
    "    # Constructor (special function) (super power)\n",
    "\n",
    "    def __init__(self):    # Constructor, it is used to initiazed all data while object creation\n",
    "        # print(id(self))\n",
    "        self.pin = \"\"\n",
    "        self.balance = 0  \n",
    "        # self.menu()\n",
    "        self.customer_id = Atm.__customer_id\n",
    "        Atm.__customer_id += 1\n",
    "        \n",
    "\n",
    "    # To acess private variable we need to use getter and setter method\n",
    "\n",
    "    # As we are returning static private variable, hence we call it static method.\n",
    "\n",
    "    @staticmethod  # To define any static method\n",
    "    def get_customer_id():  # We can remove self as argument here\n",
    "        return Atm.__customer_id  # because we are not not returing constructor instances\n",
    "    \n",
    "    @staticmethod\n",
    "    def set_customer_id(new_id):\n",
    "        Atm.__customer_id = new_id\n",
    "\n",
    "    def __menu(self): # we can make private methods as well by using __ before it name.\n",
    "        user_input = input(\n",
    "            \"\"\"\n",
    "            HI How can I help you?\n",
    "\n",
    "            1. Press 1 to create pin\n",
    "            2. Press 2 to change pin\n",
    "            3. Press 3 to check balance\n",
    "            4. Press 4 to withdraw money\n",
    "            5. Anything to exit\n",
    "            \"\"\"\n",
    "        )\n",
    "\n",
    "        if user_input == \"1\":\n",
    "            # Create a pin\n",
    "            self.create_pin()\n",
    "\n",
    "        elif user_input == \"2\":\n",
    "            # Change pin\n",
    "            self.change_pin()\n",
    "\n",
    "        elif user_input == \"3\":\n",
    "            # Check balance\n",
    "            self.check_balance()\n",
    "\n",
    "        elif user_input == \"4\":\n",
    "            # Withdraw money\n",
    "            self.withdraw_balance()\n",
    "\n",
    "        else:\n",
    "            # Exit otherwise\n",
    "            exit()\n",
    "\n",
    "    def create_pin(self):\n",
    "        user_pin  = input(\"Enter your pin\")\n",
    "        self.pin = user_pin\n",
    "\n",
    "        user_balance = int(input(\"Enter balance\"))\n",
    "        self.__balance = user_balance\n",
    "\n",
    "        print(\"Pin created successfully\")\n",
    "        # self.menu()\n",
    "\n",
    "    def change_pin(self):\n",
    "        old_pin = input(\"Enter your old pin\")\n",
    "\n",
    "        if old_pin == self.pin:\n",
    "            new_pin = input(\"Enter new pin: \")\n",
    "            self.pin = new_pin\n",
    "            print(\"Pin changed successfully!\")\n",
    "            # self.menu()\n",
    "        else:\n",
    "            print(\"Invalid pin\")\n",
    "            # self.menu()\n",
    "\n",
    "    def check_balance(self):\n",
    "        user_pin = input(\"ENter your pin: \")\n",
    "        if user_pin == self.pin:\n",
    "            print(f\"Your current balance is {self.__balance}\")\n",
    "        else:\n",
    "            print(\"Pin is incorrect, please try again...\")\n",
    "        # self.menu()\n",
    "\n",
    "    def withdraw_balance(self):\n",
    "        user_pin = input(\"ENter your pin: \")\n",
    "        if user_pin == self.pin:\n",
    "            withdraw_amount = int(input(\"ENter withdraw amount: \"))\n",
    "            if withdraw_amount <= self.__balance:\n",
    "                self.__balance = self.__balance - withdraw_amount\n",
    "                print(f\"You got your money: {withdraw_amount}!!!\")\n",
    "                print(f\"Your available balance is: {self.__balance}\")\n",
    "            else:\n",
    "                print(\"Insufficient Balance!!!\")\n",
    "        else:\n",
    "            print(\"Invalid pin.... Try again Please...\")\n",
    "        # self.menu()"
   ]
  },
  {
   "cell_type": "code",
   "execution_count": 18,
   "metadata": {},
   "outputs": [],
   "source": [
    "c1 = Atm()"
   ]
  },
  {
   "cell_type": "code",
   "execution_count": 19,
   "metadata": {},
   "outputs": [
    {
     "data": {
      "text/plain": [
       "1"
      ]
     },
     "execution_count": 19,
     "metadata": {},
     "output_type": "execute_result"
    }
   ],
   "source": [
    "c1.get_customer_id()"
   ]
  },
  {
   "cell_type": "code",
   "execution_count": 21,
   "metadata": {},
   "outputs": [],
   "source": [
    "c1.set_customer_id(101)"
   ]
  },
  {
   "cell_type": "code",
   "execution_count": 22,
   "metadata": {},
   "outputs": [
    {
     "data": {
      "text/plain": [
       "101"
      ]
     },
     "execution_count": 22,
     "metadata": {},
     "output_type": "execute_result"
    }
   ],
   "source": [
    "c1.get_customer_id()"
   ]
  },
  {
   "cell_type": "code",
   "execution_count": null,
   "metadata": {},
   "outputs": [],
   "source": []
  }
 ],
 "metadata": {
  "kernelspec": {
   "display_name": "base",
   "language": "python",
   "name": "python3"
  },
  "language_info": {
   "codemirror_mode": {
    "name": "ipython",
    "version": 3
   },
   "file_extension": ".py",
   "mimetype": "text/x-python",
   "name": "python",
   "nbconvert_exporter": "python",
   "pygments_lexer": "ipython3",
   "version": "3.11.5"
  }
 },
 "nbformat": 4,
 "nbformat_minor": 2
}
