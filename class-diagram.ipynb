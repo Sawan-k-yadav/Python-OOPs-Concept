{
 "cells": [
  {
   "cell_type": "markdown",
   "metadata": {},
   "source": [
    "## class diagram\n",
    "``` \n",
    "     -------------------------------\n",
    "    |      class name              |\n",
    "    --------------------------------\n",
    "    |      data property           |\n",
    "    |                              |\n",
    "    -------------------------------\n",
    "    |     methods or functions     |\n",
    "    |     property                 |\n",
    "    -------------------------------\n",
    "    ```"
   ]
  },
  {
   "cell_type": "markdown",
   "metadata": {},
   "source": [
    "## In this diagram if we add - before any data or method then it \n",
    "## is called as private.\n",
    "## If we add + before any data or method then it is called as\n",
    "## Public"
   ]
  },
  {
   "cell_type": "code",
   "execution_count": null,
   "metadata": {},
   "outputs": [],
   "source": []
  }
 ],
 "metadata": {
  "kernelspec": {
   "display_name": "Python 3",
   "language": "python",
   "name": "python3"
  },
  "language_info": {
   "name": "python",
   "version": "3.11.5"
  }
 },
 "nbformat": 4,
 "nbformat_minor": 2
}
