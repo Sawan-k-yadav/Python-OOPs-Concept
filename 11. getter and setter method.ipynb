{
 "cells": [
  {
   "cell_type": "markdown",
   "metadata": {},
   "source": [
    "# getter and setter method in OOP\n",
    "\n",
    "To see and change any private variable or function then we use these getter and setter methods"
   ]
  },
  {
   "cell_type": "code",
   "execution_count": 15,
   "metadata": {},
   "outputs": [],
   "source": [
    "class Atm:\n",
    "\n",
    "    # Constructor (special function) (super power)\n",
    "\n",
    "    def __init__(self):    # Constructor, it is used to initiazed all data while object creation\n",
    "        print(id(self))\n",
    "        self.pin = \"\"\n",
    "        self.__balance = 0  # private variable => if we use (__) before variable then becomes private variable\n",
    "        # self.menu()\n",
    "\n",
    "\n",
    "    # getter method => To use private variable of class\n",
    "\n",
    "    def get_balance(self):  # If we use any obj.__balance outside class then it create new instance of class\n",
    "        return self.__balance # But if we use inside class inside any function by using self.__privatevariable \n",
    "                              # Then it called getter method\n",
    "\n",
    "\n",
    "    # setter method => To change value of private variable of class\n",
    "\n",
    "    def set_balance(self, new_balance):\n",
    "        if type(new_balance) == int:\n",
    "            self.__balance = new_balance\n",
    "        else:\n",
    "            print(f\" Ye kya majak hai, meko paisa chahiye {new_balance} nahi..\")\n",
    "\n",
    "\n",
    "    def __menu(self): # we can make private methods as well by using __ before it name.\n",
    "        user_input = input(\n",
    "            \"\"\"\n",
    "            HI How can I help you?\n",
    "\n",
    "            1. Press 1 to create pin\n",
    "            2. Press 2 to change pin\n",
    "            3. Press 3 to check balance\n",
    "            4. Press 4 to withdraw money\n",
    "            5. Anything to exit\n",
    "            \"\"\"\n",
    "        )\n",
    "\n",
    "        if user_input == \"1\":\n",
    "            # Create a pin\n",
    "            self.create_pin()\n",
    "\n",
    "        elif user_input == \"2\":\n",
    "            # Change pin\n",
    "            self.change_pin()\n",
    "\n",
    "        elif user_input == \"3\":\n",
    "            # Check balance\n",
    "            self.check_balance()\n",
    "\n",
    "        elif user_input == \"4\":\n",
    "            # Withdraw money\n",
    "            self.withdraw_balance()\n",
    "\n",
    "        else:\n",
    "            # Exit otherwise\n",
    "            exit()\n",
    "\n",
    "    def create_pin(self):\n",
    "        user_pin  = input(\"Enter your pin\")\n",
    "        self.pin = user_pin\n",
    "\n",
    "        user_balance = int(input(\"Enter balance\"))\n",
    "        self.__balance = user_balance\n",
    "\n",
    "        print(\"Pin created successfully\")\n",
    "        # self.menu()\n",
    "\n",
    "    def change_pin(self):\n",
    "        old_pin = input(\"Enter your old pin\")\n",
    "\n",
    "        if old_pin == self.pin:\n",
    "            new_pin = input(\"Enter new pin: \")\n",
    "            self.pin = new_pin\n",
    "            print(\"Pin changed successfully!\")\n",
    "            # self.menu()\n",
    "        else:\n",
    "            print(\"Invalid pin\")\n",
    "            # self.menu()\n",
    "\n",
    "    def check_balance(self):\n",
    "        user_pin = input(\"ENter your pin: \")\n",
    "        if user_pin == self.pin:\n",
    "            print(f\"Your current balance is {self.__balance}\")\n",
    "        else:\n",
    "            print(\"Pin is incorrect, please try again...\")\n",
    "        # self.menu()\n",
    "\n",
    "    def withdraw_balance(self):\n",
    "        user_pin = input(\"ENter your pin: \")\n",
    "        if user_pin == self.pin:\n",
    "            withdraw_amount = int(input(\"ENter withdraw amount: \"))\n",
    "            if withdraw_amount <= self.__balance:\n",
    "                self.__balance = self.__balance - withdraw_amount\n",
    "                print(f\"You got your money: {withdraw_amount}!!!\")\n",
    "                print(f\"Your available balance is: {self.__balance}\")\n",
    "            else:\n",
    "                print(\"Insufficient Balance!!!\")\n",
    "        else:\n",
    "            print(\"Invalid pin.... Try again Please...\")\n",
    "        # self.menu()"
   ]
  },
  {
   "cell_type": "code",
   "execution_count": 4,
   "metadata": {},
   "outputs": [
    {
     "name": "stdout",
     "output_type": "stream",
     "text": [
      "1671518820240\n"
     ]
    }
   ],
   "source": [
    "obj = Atm()"
   ]
  },
  {
   "cell_type": "code",
   "execution_count": 5,
   "metadata": {},
   "outputs": [
    {
     "data": {
      "text/plain": [
       "0"
      ]
     },
     "execution_count": 5,
     "metadata": {},
     "output_type": "execute_result"
    }
   ],
   "source": [
    "obj.get_balance()"
   ]
  },
  {
   "cell_type": "code",
   "execution_count": 6,
   "metadata": {},
   "outputs": [],
   "source": [
    "obj.set_balance(1000)  # It ran means new balance is set"
   ]
  },
  {
   "cell_type": "code",
   "execution_count": 7,
   "metadata": {},
   "outputs": [
    {
     "data": {
      "text/plain": [
       "1000"
      ]
     },
     "execution_count": 7,
     "metadata": {},
     "output_type": "execute_result"
    }
   ],
   "source": [
    "obj.get_balance()  # to see new changed balance"
   ]
  },
  {
   "cell_type": "markdown",
   "metadata": {},
   "source": [
    "## Now lets try to change private variable and set it to string instead of integer ( which is expected here)"
   ]
  },
  {
   "cell_type": "code",
   "execution_count": 12,
   "metadata": {},
   "outputs": [],
   "source": [
    "obj.set_balance(\"Hello\")"
   ]
  },
  {
   "cell_type": "code",
   "execution_count": 13,
   "metadata": {},
   "outputs": [
    {
     "data": {
      "text/plain": [
       "'Hello'"
      ]
     },
     "execution_count": 13,
     "metadata": {},
     "output_type": "execute_result"
    }
   ],
   "source": [
    "obj.get_balance()  # Again it changed"
   ]
  },
  {
   "cell_type": "code",
   "execution_count": 11,
   "metadata": {},
   "outputs": [
    {
     "name": "stdout",
     "output_type": "stream",
     "text": [
      "Pin created successfully\n"
     ]
    }
   ],
   "source": [
    "obj.create_pin()"
   ]
  },
  {
   "cell_type": "code",
   "execution_count": 14,
   "metadata": {},
   "outputs": [
    {
     "ename": "TypeError",
     "evalue": "'<=' not supported between instances of 'int' and 'str'",
     "output_type": "error",
     "traceback": [
      "\u001b[1;31m---------------------------------------------------------------------------\u001b[0m",
      "\u001b[1;31mTypeError\u001b[0m                                 Traceback (most recent call last)",
      "Cell \u001b[1;32mIn[14], line 1\u001b[0m\n\u001b[1;32m----> 1\u001b[0m obj\u001b[38;5;241m.\u001b[39mwithdraw_balance()\n",
      "Cell \u001b[1;32mIn[3], line 92\u001b[0m, in \u001b[0;36mAtm.withdraw_balance\u001b[1;34m(self)\u001b[0m\n\u001b[0;32m     90\u001b[0m \u001b[38;5;28;01mif\u001b[39;00m user_pin \u001b[38;5;241m==\u001b[39m \u001b[38;5;28mself\u001b[39m\u001b[38;5;241m.\u001b[39mpin:\n\u001b[0;32m     91\u001b[0m     withdraw_amount \u001b[38;5;241m=\u001b[39m \u001b[38;5;28mint\u001b[39m(\u001b[38;5;28minput\u001b[39m(\u001b[38;5;124m\"\u001b[39m\u001b[38;5;124mENter withdraw amount: \u001b[39m\u001b[38;5;124m\"\u001b[39m))\n\u001b[1;32m---> 92\u001b[0m     \u001b[38;5;28;01mif\u001b[39;00m withdraw_amount \u001b[38;5;241m<\u001b[39m\u001b[38;5;241m=\u001b[39m \u001b[38;5;28mself\u001b[39m\u001b[38;5;241m.\u001b[39m__balance:\n\u001b[0;32m     93\u001b[0m         \u001b[38;5;28mself\u001b[39m\u001b[38;5;241m.\u001b[39m__balance \u001b[38;5;241m=\u001b[39m \u001b[38;5;28mself\u001b[39m\u001b[38;5;241m.\u001b[39m__balance \u001b[38;5;241m-\u001b[39m withdraw_amount\n\u001b[0;32m     94\u001b[0m         \u001b[38;5;28mprint\u001b[39m(\u001b[38;5;124mf\u001b[39m\u001b[38;5;124m\"\u001b[39m\u001b[38;5;124mYou got your money: \u001b[39m\u001b[38;5;132;01m{\u001b[39;00mwithdraw_amount\u001b[38;5;132;01m}\u001b[39;00m\u001b[38;5;124m!!!\u001b[39m\u001b[38;5;124m\"\u001b[39m)\n",
      "\u001b[1;31mTypeError\u001b[0m: '<=' not supported between instances of 'int' and 'str'"
     ]
    }
   ],
   "source": [
    "obj.withdraw_balance()\n",
    "\n",
    "# This error is because our private variable __balance is\n",
    "# changed by setter method to any string but withdraw amout is \n",
    "# integer."
   ]
  },
  {
   "cell_type": "markdown",
   "metadata": {},
   "source": [
    "To handle is error even after using getter and setter method, we need to handle by logic of if conditions."
   ]
  },
  {
   "cell_type": "markdown",
   "metadata": {},
   "source": [
    "##### After updating our setter method like below using if condition\n",
    "\n",
    "```\n",
    "def set_balance(self, new_balance):\n",
    "        if type(new_balance) == int:\n",
    "            self.__balance = new_balance\n",
    "        else:\n",
    "            print(f\" Ye kya majak hai, meko paisa chahiye {new_balance} nahi..\")\n",
    "\n",
    "```\n"
   ]
  },
  {
   "cell_type": "code",
   "execution_count": 16,
   "metadata": {},
   "outputs": [
    {
     "name": "stdout",
     "output_type": "stream",
     "text": [
      "1671532220368\n"
     ]
    }
   ],
   "source": [
    "obj1 = Atm()"
   ]
  },
  {
   "cell_type": "code",
   "execution_count": 17,
   "metadata": {},
   "outputs": [
    {
     "name": "stdout",
     "output_type": "stream",
     "text": [
      " Ye kya majak hai, meko paisa chahiye Hello nahi..\n"
     ]
    }
   ],
   "source": [
    "obj1.set_balance(\"Hello\")"
   ]
  },
  {
   "cell_type": "code",
   "execution_count": 19,
   "metadata": {},
   "outputs": [
    {
     "data": {
      "text/plain": [
       "0"
      ]
     },
     "execution_count": 19,
     "metadata": {},
     "output_type": "execute_result"
    }
   ],
   "source": [
    "obj1.get_balance()  # As above code did not change the private \n",
    "                    # variable and gave else result\n",
    "                # thats why private variable __balance is still 0"
   ]
  },
  {
   "cell_type": "code",
   "execution_count": null,
   "metadata": {},
   "outputs": [],
   "source": []
  }
 ],
 "metadata": {
  "kernelspec": {
   "display_name": "base",
   "language": "python",
   "name": "python3"
  },
  "language_info": {
   "codemirror_mode": {
    "name": "ipython",
    "version": 3
   },
   "file_extension": ".py",
   "mimetype": "text/x-python",
   "name": "python",
   "nbconvert_exporter": "python",
   "pygments_lexer": "ipython3",
   "version": "3.11.5"
  }
 },
 "nbformat": 4,
 "nbformat_minor": 2
}
