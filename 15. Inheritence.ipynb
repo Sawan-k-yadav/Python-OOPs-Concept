{
 "cells": [
  {
   "cell_type": "markdown",
   "metadata": {},
   "source": [
    "# Inheritance in Python in OOP\n",
    "\n",
    "To use the properties of one class into another class. So Whichever class properties we are using will be called as parent class and the new class which is using parent class will be called as child class.\n",
    "\n",
    "with one condition\n",
    "\n",
    "+ non private attiributes (variables)\n",
    "+ non private methods (functions)"
   ]
  },
  {
   "cell_type": "code",
   "execution_count": 1,
   "metadata": {},
   "outputs": [],
   "source": [
    "class User:  # Parent class\n",
    "\n",
    "    def __init__(self):\n",
    "        self.name = \"Sawan\"\n",
    "        self.gender = \"Male\"\n",
    "\n",
    "    def login(self):\n",
    "        print(\"Login Done!\")\n",
    "\n",
    "    def register(self):\n",
    "        print(\"Resister Done!\")\n",
    "\n",
    "\n",
    "# Child class\n",
    "class Student(User):  # We have taken User as parent class, so object of student can \n",
    "                      # User properties as well.\n",
    "\n",
    "    def __init__(self):\n",
    "        self.rollno = 12\n",
    "\n",
    "    def enroll(self):\n",
    "        print(\"enrolled the course\")\n",
    "\n",
    "\n",
    "# Child class\n",
    "class Instructor(User):  # We have taken User as parent class, so object of student can \n",
    "                      # User properties as well.\n",
    "\n",
    "    def __init__(self):\n",
    "        self.idno = 12\n",
    "\n",
    "    def enroll(self):\n",
    "        print(\"Created the course\")"
   ]
  },
  {
   "cell_type": "code",
   "execution_count": 2,
   "metadata": {},
   "outputs": [],
   "source": [
    "s1 = Student()"
   ]
  },
  {
   "cell_type": "code",
   "execution_count": 3,
   "metadata": {},
   "outputs": [
    {
     "name": "stdout",
     "output_type": "stream",
     "text": [
      "enrolled the course\n"
     ]
    }
   ],
   "source": [
    "s1.enroll()  # Accessing method of Student class with student object"
   ]
  },
  {
   "cell_type": "code",
   "execution_count": 4,
   "metadata": {},
   "outputs": [
    {
     "name": "stdout",
     "output_type": "stream",
     "text": [
      "Login Done!\n"
     ]
    }
   ],
   "source": [
    "s1.login()  # Even we can access method of User class as well with Student object."
   ]
  },
  {
   "cell_type": "code",
   "execution_count": 5,
   "metadata": {},
   "outputs": [],
   "source": [
    "I1 = Instructor()"
   ]
  },
  {
   "cell_type": "code",
   "execution_count": 6,
   "metadata": {},
   "outputs": [
    {
     "name": "stdout",
     "output_type": "stream",
     "text": [
      "Created the course\n"
     ]
    }
   ],
   "source": [
    "I1.enroll()"
   ]
  },
  {
   "cell_type": "code",
   "execution_count": 7,
   "metadata": {},
   "outputs": [
    {
     "name": "stdout",
     "output_type": "stream",
     "text": [
      "Resister Done!\n"
     ]
    }
   ],
   "source": [
    "I1.register()  # Hence both call can access properties of child and parent class.\n",
    "               # With same object of child class."
   ]
  },
  {
   "cell_type": "markdown",
   "metadata": {},
   "source": [
    "# !Conflit"
   ]
  },
  {
   "cell_type": "code",
   "execution_count": 8,
   "metadata": {},
   "outputs": [],
   "source": [
    "class User: # Parent class\n",
    "\n",
    "    def __init__(self):\n",
    "        self.name = \"Sawan\"\n",
    "        self.gender = \"Male\"\n",
    "\n",
    "    def login(self):\n",
    "        print(\"Login Done!\")\n",
    "\n",
    "    def register(self):\n",
    "        print(\"Resister Done!\")\n",
    "\n",
    "\n",
    "\n",
    "# child class\n",
    "class Student(User):  # We have taken User as parent class, so object of student can \n",
    "                      # User properties as well.\n",
    "\n",
    "    def __init__(self):\n",
    "        self.rollno = 12\n",
    "\n",
    "    def enroll(self):\n",
    "        print(\"enrolled the course\")"
   ]
  },
  {
   "cell_type": "code",
   "execution_count": 9,
   "metadata": {},
   "outputs": [],
   "source": [
    "s2 = Student()"
   ]
  },
  {
   "cell_type": "code",
   "execution_count": 13,
   "metadata": {},
   "outputs": [
    {
     "data": {
      "text/plain": [
       "12"
      ]
     },
     "execution_count": 13,
     "metadata": {},
     "output_type": "execute_result"
    }
   ],
   "source": [
    "s2.rollno"
   ]
  },
  {
   "cell_type": "code",
   "execution_count": 10,
   "metadata": {},
   "outputs": [
    {
     "ename": "AttributeError",
     "evalue": "'Student' object has no attribute 'name'",
     "output_type": "error",
     "traceback": [
      "\u001b[1;31m---------------------------------------------------------------------------\u001b[0m",
      "\u001b[1;31mAttributeError\u001b[0m                            Traceback (most recent call last)",
      "Cell \u001b[1;32mIn[10], line 1\u001b[0m\n\u001b[1;32m----> 1\u001b[0m s2\u001b[38;5;241m.\u001b[39mname\n",
      "\u001b[1;31mAttributeError\u001b[0m: 'Student' object has no attribute 'name'"
     ]
    }
   ],
   "source": [
    "s2.name # This error is because name attribute is in parent class not in Student class."
   ]
  },
  {
   "cell_type": "markdown",
   "metadata": {},
   "source": [
    "( To resolve above scenario we use super class --  we will see later)\n",
    "\n",
    "1. Above error is because object of Student class s2 will search for its own constructor then it will go for parent class constructor, if it will not find its own constructor.\n",
    "\n",
    "2. So here Student class has own (__init__) constructor and it does not has name attribute or variable, hence it gave error.\n",
    "\n",
    "3. If we comment the Student constructor then it will go for User class constructor and if it finds the required attribute which it is searching , then it will execute.\n",
    "\n",
    "\n",
    "\n",
    "\n",
    "see below --"
   ]
  },
  {
   "cell_type": "code",
   "execution_count": 12,
   "metadata": {},
   "outputs": [],
   "source": [
    "class User: # Parent class\n",
    "\n",
    "    def __init__(self):\n",
    "        self.name = \"Sawan\"\n",
    "        self.gender = \"Male\"\n",
    "\n",
    "    def login(self):\n",
    "        print(\"Login Done!\")\n",
    "\n",
    "    def register(self):\n",
    "        print(\"Resister Done!\")\n",
    "\n",
    "\n",
    "\n",
    "# child class\n",
    "class Student(User):  # We have taken User as parent class, so object of student can \n",
    "                      # User properties as well.\n",
    "\n",
    "    # def __init__(self):\n",
    "    #     self.rollno = 12\n",
    "\n",
    "    def enroll(self):\n",
    "        print(\"enrolled the course\")"
   ]
  },
  {
   "cell_type": "code",
   "execution_count": 14,
   "metadata": {},
   "outputs": [],
   "source": [
    "s3 = Student()"
   ]
  },
  {
   "cell_type": "code",
   "execution_count": 15,
   "metadata": {},
   "outputs": [
    {
     "data": {
      "text/plain": [
       "'Sawan'"
      ]
     },
     "execution_count": 15,
     "metadata": {},
     "output_type": "execute_result"
    }
   ],
   "source": [
    "s3.name  # This time ran, because Student does not have its own, constructor,\n",
    "         # so it is searching parent class constructor"
   ]
  },
  {
   "cell_type": "markdown",
   "metadata": {},
   "source": [
    "# Class inheritance diagram\n",
    "\n",
    "![ alt text for screen readers](Class-diagram-and-inheritance.png \"Inheritance\")"
   ]
  },
  {
   "cell_type": "code",
   "execution_count": null,
   "metadata": {},
   "outputs": [],
   "source": []
  }
 ],
 "metadata": {
  "kernelspec": {
   "display_name": "base",
   "language": "python",
   "name": "python3"
  },
  "language_info": {
   "codemirror_mode": {
    "name": "ipython",
    "version": 3
   },
   "file_extension": ".py",
   "mimetype": "text/x-python",
   "name": "python",
   "nbconvert_exporter": "python",
   "pygments_lexer": "ipython3",
   "version": "3.11.5"
  }
 },
 "nbformat": 4,
 "nbformat_minor": 2
}
