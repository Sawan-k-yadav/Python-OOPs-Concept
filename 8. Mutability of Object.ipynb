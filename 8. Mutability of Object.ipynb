{
 "cells": [
  {
   "cell_type": "markdown",
   "metadata": {},
   "source": [
    "# Mutability in Object in OOP"
   ]
  },
  {
   "cell_type": "code",
   "execution_count": 7,
   "metadata": {},
   "outputs": [],
   "source": [
    "class Person:\n",
    "\n",
    "    def __init__(self, name, gender): # Methods inside class\n",
    "        self.name = name\n",
    "        self.gender = gender\n",
    "\n",
    "\n",
    "# Function outside of class\n",
    "\n",
    "# def greeting(person):\n",
    "#     pass\n",
    "\n",
    "def greeting(person):\n",
    "    person.name = \"Alex\"\n",
    "    return person"
   ]
  },
  {
   "cell_type": "code",
   "execution_count": 2,
   "metadata": {},
   "outputs": [],
   "source": [
    "p = Person(\"Sawan\", \"Male\")"
   ]
  },
  {
   "cell_type": "code",
   "execution_count": 4,
   "metadata": {},
   "outputs": [
    {
     "name": "stdout",
     "output_type": "stream",
     "text": [
      "Sawan\n",
      "2702887705040\n"
     ]
    }
   ],
   "source": [
    "# before writing any statement inside greeting function\n",
    "print(p.name)\n",
    "print(id(p))"
   ]
  },
  {
   "cell_type": "code",
   "execution_count": 8,
   "metadata": {},
   "outputs": [],
   "source": [
    "# After adding some updates in greeting function\n",
    "\n",
    "a = greeting(p)"
   ]
  },
  {
   "cell_type": "code",
   "execution_count": 10,
   "metadata": {},
   "outputs": [
    {
     "name": "stdout",
     "output_type": "stream",
     "text": [
      "Alex\n",
      "2702887705040\n"
     ]
    }
   ],
   "source": [
    "print(a.name) # object which got created after function greeting\n",
    "print(id(a))  # returned and has same memory address as p object"
   ]
  },
  {
   "cell_type": "code",
   "execution_count": 11,
   "metadata": {},
   "outputs": [
    {
     "name": "stdout",
     "output_type": "stream",
     "text": [
      "Alex\n",
      "2702887705040\n"
     ]
    }
   ],
   "source": [
    "print(p.name)  # As we changed name inside greeting with class \n",
    "print(id(p))   # object then object p also gets changed and has\n",
    "               # same address as a. This is called mutability\n",
    "               # or able to change is its value"
   ]
  },
  {
   "cell_type": "markdown",
   "metadata": {},
   "source": [
    "# Simply means object of class is mutable and its value can be changed later anytime by any reference object of same class."
   ]
  },
  {
   "cell_type": "code",
   "execution_count": null,
   "metadata": {},
   "outputs": [],
   "source": []
  }
 ],
 "metadata": {
  "kernelspec": {
   "display_name": "base",
   "language": "python",
   "name": "python3"
  },
  "language_info": {
   "codemirror_mode": {
    "name": "ipython",
    "version": 3
   },
   "file_extension": ".py",
   "mimetype": "text/x-python",
   "name": "python",
   "nbconvert_exporter": "python",
   "pygments_lexer": "ipython3",
   "version": "3.11.5"
  }
 },
 "nbformat": 4,
 "nbformat_minor": 2
}
